{
  "cells": [
    {
      "cell_type": "markdown",
      "metadata": {
        "id": "0GVkezgvy_gF"
      },
      "source": [
        "# 🎥 CamXploit - Exposed CCTV Camera Recon Tool\n",
        "\n",
        "**Install and use CamXploit right here in Colab or Jupyter.**\n",
        "\n",
        "CamXploit scans, detects, and analyzes exposed IP cameras: common ports, login pages, default credentials, brand/vuln ID, live streams, & more.\n",
        "\n",
        "_⚠️ Educational use only! Do not scan devices you do not own or have explicit permission to test._"
      ]
    },
    {
      "cell_type": "code",
      "execution_count": 18,
      "metadata": {
        "id": "oF0_iQQsy_gF",
        "outputId": "b1085981-b57c-44cc-8606-246dd468b81d",
        "colab": {
          "base_uri": "https://localhost:8080/"
        }
      },
      "outputs": [
        {
          "output_type": "stream",
          "name": "stdout",
          "text": [
            "Cloning into 'CamXploit'...\n",
            "remote: Enumerating objects: 79, done.\u001b[K\n",
            "remote: Counting objects:   3% (1/27)\u001b[K\rremote: Counting objects:   7% (2/27)\u001b[K\rremote: Counting objects:  11% (3/27)\u001b[K\rremote: Counting objects:  14% (4/27)\u001b[K\rremote: Counting objects:  18% (5/27)\u001b[K\rremote: Counting objects:  22% (6/27)\u001b[K\rremote: Counting objects:  25% (7/27)\u001b[K\rremote: Counting objects:  29% (8/27)\u001b[K\rremote: Counting objects:  33% (9/27)\u001b[K\rremote: Counting objects:  37% (10/27)\u001b[K\rremote: Counting objects:  40% (11/27)\u001b[K\rremote: Counting objects:  44% (12/27)\u001b[K\rremote: Counting objects:  48% (13/27)\u001b[K\rremote: Counting objects:  51% (14/27)\u001b[K\rremote: Counting objects:  55% (15/27)\u001b[K\rremote: Counting objects:  59% (16/27)\u001b[K\rremote: Counting objects:  62% (17/27)\u001b[K\rremote: Counting objects:  66% (18/27)\u001b[K\rremote: Counting objects:  70% (19/27)\u001b[K\rremote: Counting objects:  74% (20/27)\u001b[K\rremote: Counting objects:  77% (21/27)\u001b[K\rremote: Counting objects:  81% (22/27)\u001b[K\rremote: Counting objects:  85% (23/27)\u001b[K\rremote: Counting objects:  88% (24/27)\u001b[K\rremote: Counting objects:  92% (25/27)\u001b[K\rremote: Counting objects:  96% (26/27)\u001b[K\rremote: Counting objects: 100% (27/27)\u001b[K\rremote: Counting objects: 100% (27/27), done.\u001b[K\n",
            "remote: Compressing objects:   6% (1/16)\u001b[K\rremote: Compressing objects:  12% (2/16)\u001b[K\rremote: Compressing objects:  18% (3/16)\u001b[K\rremote: Compressing objects:  25% (4/16)\u001b[K\rremote: Compressing objects:  31% (5/16)\u001b[K\rremote: Compressing objects:  37% (6/16)\u001b[K\rremote: Compressing objects:  43% (7/16)\u001b[K\rremote: Compressing objects:  50% (8/16)\u001b[K\rremote: Compressing objects:  56% (9/16)\u001b[K\rremote: Compressing objects:  62% (10/16)\u001b[K\rremote: Compressing objects:  68% (11/16)\u001b[K\rremote: Compressing objects:  75% (12/16)\u001b[K\rremote: Compressing objects:  81% (13/16)\u001b[K\rremote: Compressing objects:  87% (14/16)\u001b[K\rremote: Compressing objects:  93% (15/16)\u001b[K\rremote: Compressing objects: 100% (16/16)\u001b[K\rremote: Compressing objects: 100% (16/16), done.\u001b[K\n",
            "remote: Total 79 (delta 22), reused 11 (delta 11), pack-reused 52 (from 1)\u001b[K\n",
            "Receiving objects: 100% (79/79), 758.93 KiB | 10.25 MiB/s, done.\n",
            "Resolving deltas: 100% (36/36), done.\n",
            "/content/CamXploit/CamXploit/CamXploit/CamXploit\n",
            "Requirement already satisfied: requests in /usr/local/lib/python3.11/dist-packages (from -r requirements.txt (line 1)) (2.32.3)\n",
            "Requirement already satisfied: ipaddress in /usr/local/lib/python3.11/dist-packages (from -r requirements.txt (line 2)) (1.0.23)\n",
            "Requirement already satisfied: charset-normalizer<4,>=2 in /usr/local/lib/python3.11/dist-packages (from requests->-r requirements.txt (line 1)) (3.4.3)\n",
            "Requirement already satisfied: idna<4,>=2.5 in /usr/local/lib/python3.11/dist-packages (from requests->-r requirements.txt (line 1)) (3.10)\n",
            "Requirement already satisfied: urllib3<3,>=1.21.1 in /usr/local/lib/python3.11/dist-packages (from requests->-r requirements.txt (line 1)) (2.5.0)\n",
            "Requirement already satisfied: certifi>=2017.4.17 in /usr/local/lib/python3.11/dist-packages (from requests->-r requirements.txt (line 1)) (2025.8.3)\n"
          ]
        }
      ],
      "source": [
        "# 📦 Clone the repo and install dependencies\n",
        "!git clone https://github.com/spyboy-productions/CamXploit.git\n",
        "%cd CamXploit\n",
        "!pip install -r requirements.txt"
      ]
    },
    {
      "cell_type": "markdown",
      "metadata": {
        "id": "C8m1qYqSy_gG"
      },
      "source": [
        "## ✅ Example Usage"
      ]
    },
    {
      "cell_type": "code",
      "execution_count": 19,
      "metadata": {
        "id": "In6Zg1qSy_gG",
        "outputId": "80defea9-ece9-4687-a858-d965fa90c5e2",
        "colab": {
          "base_uri": "https://localhost:8080/"
        }
      },
      "outputs": [
        {
          "output_type": "stream",
          "name": "stdout",
          "text": [
            "\u001b[32m[+] \u001b[36mEnter IP address: \u001b[0m\n",
            "[!] Scan aborted by user\n",
            "^C\n"
          ]
        }
      ],
      "source": [
        "# 🔍 Scan a public IP for exposed CCTV cameras (replace with your target IP)\n",
        "!python3 CamXploit.py"
      ]
    },
    {
      "cell_type": "markdown",
      "metadata": {
        "id": "CsulQlCyy_gG"
      },
      "source": [
        "You will be prompted for an IP. **Enter the IP address you want to scan.**\n",
        "\n",
        "> _Again: Only scan devices you have explicit authorization to test._"
      ]
    }
  ],
  "metadata": {
    "colab": {
      "provenance": []
    },
    "kernelspec": {
      "display_name": "Python 3",
      "language": "python",
      "name": "python3"
    },
    "language_info": {
      "name": "python"
    }
  },
  "nbformat": 4,
  "nbformat_minor": 0
}