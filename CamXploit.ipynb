{
  "cells": [
    {
      "cell_type": "markdown",
      "metadata": {
        "id": "0GVkezgvy_gF"
      },
      "source": [
        "# 🎥 CamXploit - Exposed CCTV Camera Recon Tool\n",
        "\n",
        "**Install and use CamXploit right here in Colab or Jupyter.**\n",
        "\n",
        "CamXploit scans, detects, and analyzes exposed IP cameras: common ports, login pages, default credentials, brand/vuln ID, live streams, & more.\n",
        "\n",
        "_⚠️ Educational use only! Do not scan devices you do not own or have explicit permission to test._"
      ]
    },
    {
      "cell_type": "code",
      "execution_count": 4,
      "metadata": {
        "id": "oF0_iQQsy_gF",
        "outputId": "c2a78633-c6bd-4fe0-b3b8-e7cbf46edf37",
        "colab": {
          "base_uri": "https://localhost:8080/"
        }
      },
      "outputs": [
        {
          "output_type": "stream",
          "name": "stdout",
          "text": [
            "Cloning into 'CamXploit'...\n",
            "remote: Enumerating objects: 79, done.\u001b[K\n",
            "remote: Counting objects:   3% (1/27)\u001b[K\rremote: Counting objects:   7% (2/27)\u001b[K\rremote: Counting objects:  11% (3/27)\u001b[K\rremote: Counting objects:  14% (4/27)\u001b[K\rremote: Counting objects:  18% (5/27)\u001b[K\rremote: Counting objects:  22% (6/27)\u001b[K\rremote: Counting objects:  25% (7/27)\u001b[K\rremote: Counting objects:  29% (8/27)\u001b[K\rremote: Counting objects:  33% (9/27)\u001b[K\rremote: Counting objects:  37% (10/27)\u001b[K\rremote: Counting objects:  40% (11/27)\u001b[K\rremote: Counting objects:  44% (12/27)\u001b[K\rremote: Counting objects:  48% (13/27)\u001b[K\rremote: Counting objects:  51% (14/27)\u001b[K\rremote: Counting objects:  55% (15/27)\u001b[K\rremote: Counting objects:  59% (16/27)\u001b[K\rremote: Counting objects:  62% (17/27)\u001b[K\rremote: Counting objects:  66% (18/27)\u001b[K\rremote: Counting objects:  70% (19/27)\u001b[K\rremote: Counting objects:  74% (20/27)\u001b[K\rremote: Counting objects:  77% (21/27)\u001b[K\rremote: Counting objects:  81% (22/27)\u001b[K\rremote: Counting objects:  85% (23/27)\u001b[K\rremote: Counting objects:  88% (24/27)\u001b[K\rremote: Counting objects:  92% (25/27)\u001b[K\rremote: Counting objects:  96% (26/27)\u001b[K\rremote: Counting objects: 100% (27/27)\u001b[K\rremote: Counting objects: 100% (27/27), done.\u001b[K\n",
            "remote: Compressing objects:   6% (1/16)\u001b[K\rremote: Compressing objects:  12% (2/16)\u001b[K\rremote: Compressing objects:  18% (3/16)\u001b[K\rremote: Compressing objects:  25% (4/16)\u001b[K\rremote: Compressing objects:  31% (5/16)\u001b[K\rremote: Compressing objects:  37% (6/16)\u001b[K\rremote: Compressing objects:  43% (7/16)\u001b[K\rremote: Compressing objects:  50% (8/16)\u001b[K\rremote: Compressing objects:  56% (9/16)\u001b[K\rremote: Compressing objects:  62% (10/16)\u001b[K\rremote: Compressing objects:  68% (11/16)\u001b[K\rremote: Compressing objects:  75% (12/16)\u001b[K\rremote: Compressing objects:  81% (13/16)\u001b[K\rremote: Compressing objects:  87% (14/16)\u001b[K\rremote: Compressing objects:  93% (15/16)\u001b[K\rremote: Compressing objects: 100% (16/16)\u001b[K\rremote: Compressing objects: 100% (16/16), done.\u001b[K\n",
            "Receiving objects:   1% (1/79)\rReceiving objects:   2% (2/79)\rReceiving objects:   3% (3/79)\rReceiving objects:   5% (4/79)\rReceiving objects:   6% (5/79)\rReceiving objects:   7% (6/79)\rReceiving objects:   8% (7/79)\rReceiving objects:  10% (8/79)\rReceiving objects:  11% (9/79)\rReceiving objects:  12% (10/79)\rReceiving objects:  13% (11/79)\rReceiving objects:  15% (12/79)\rReceiving objects:  16% (13/79)\rReceiving objects:  17% (14/79)\rReceiving objects:  18% (15/79)\rReceiving objects:  20% (16/79)\rReceiving objects:  21% (17/79)\rReceiving objects:  22% (18/79)\rReceiving objects:  24% (19/79)\rReceiving objects:  25% (20/79)\rReceiving objects:  26% (21/79)\rReceiving objects:  27% (22/79)\rReceiving objects:  29% (23/79)\rReceiving objects:  30% (24/79)\rReceiving objects:  31% (25/79)\rReceiving objects:  32% (26/79)\rReceiving objects:  34% (27/79)\rReceiving objects:  35% (28/79)\rReceiving objects:  36% (29/79)\rReceiving objects:  37% (30/79)\rReceiving objects:  39% (31/79)\rReceiving objects:  40% (32/79)\rReceiving objects:  41% (33/79)\rReceiving objects:  43% (34/79)\rReceiving objects:  44% (35/79)\rReceiving objects:  45% (36/79)\rReceiving objects:  46% (37/79)\rReceiving objects:  48% (38/79)\rReceiving objects:  49% (39/79)\rReceiving objects:  50% (40/79)\rReceiving objects:  51% (41/79)\rReceiving objects:  53% (42/79)\rReceiving objects:  54% (43/79)\rReceiving objects:  55% (44/79)\rReceiving objects:  56% (45/79)\rReceiving objects:  58% (46/79)\rReceiving objects:  59% (47/79)\rReceiving objects:  60% (48/79)\rReceiving objects:  62% (49/79)\rremote: Total 79 (delta 22), reused 11 (delta 11), pack-reused 52 (from 1)\u001b[K\n",
            "Receiving objects:  63% (50/79)\rReceiving objects:  64% (51/79)\rReceiving objects:  65% (52/79)\rReceiving objects:  67% (53/79)\rReceiving objects:  68% (54/79)\rReceiving objects:  69% (55/79)\rReceiving objects:  70% (56/79)\rReceiving objects:  72% (57/79)\rReceiving objects:  73% (58/79)\rReceiving objects:  74% (59/79)\rReceiving objects:  75% (60/79)\rReceiving objects:  77% (61/79)\rReceiving objects:  78% (62/79)\rReceiving objects:  79% (63/79)\rReceiving objects:  81% (64/79)\rReceiving objects:  82% (65/79)\rReceiving objects:  83% (66/79)\rReceiving objects:  84% (67/79)\rReceiving objects:  86% (68/79)\rReceiving objects:  87% (69/79)\rReceiving objects:  88% (70/79)\rReceiving objects:  89% (71/79)\rReceiving objects:  91% (72/79)\rReceiving objects:  92% (73/79)\rReceiving objects:  93% (74/79)\rReceiving objects:  94% (75/79)\rReceiving objects:  96% (76/79)\rReceiving objects:  97% (77/79)\rReceiving objects:  98% (78/79)\rReceiving objects: 100% (79/79)\rReceiving objects: 100% (79/79), 758.93 KiB | 16.50 MiB/s, done.\n",
            "Resolving deltas:   0% (0/36)\rResolving deltas:   2% (1/36)\rResolving deltas:   5% (2/36)\rResolving deltas:   8% (3/36)\rResolving deltas:  11% (4/36)\rResolving deltas:  13% (5/36)\rResolving deltas:  16% (6/36)\rResolving deltas:  19% (7/36)\rResolving deltas:  22% (8/36)\rResolving deltas:  25% (9/36)\rResolving deltas:  27% (10/36)\rResolving deltas:  30% (11/36)\rResolving deltas:  33% (12/36)\rResolving deltas:  36% (13/36)\rResolving deltas:  38% (14/36)\rResolving deltas:  41% (15/36)\rResolving deltas:  44% (16/36)\rResolving deltas:  47% (17/36)\rResolving deltas:  50% (18/36)\rResolving deltas:  52% (19/36)\rResolving deltas:  55% (20/36)\rResolving deltas:  58% (21/36)\rResolving deltas:  61% (22/36)\rResolving deltas:  63% (23/36)\rResolving deltas:  66% (24/36)\rResolving deltas:  69% (25/36)\rResolving deltas:  72% (26/36)\rResolving deltas:  75% (27/36)\rResolving deltas:  77% (28/36)\rResolving deltas:  80% (29/36)\rResolving deltas:  83% (30/36)\rResolving deltas:  86% (31/36)\rResolving deltas:  88% (32/36)\rResolving deltas:  91% (33/36)\rResolving deltas:  94% (34/36)\rResolving deltas:  97% (35/36)\rResolving deltas: 100% (36/36)\rResolving deltas: 100% (36/36), done.\n",
            "/content/CamXploit/CamXploit/CamXploit\n",
            "Requirement already satisfied: requests in /usr/local/lib/python3.11/dist-packages (from -r requirements.txt (line 1)) (2.32.3)\n",
            "Requirement already satisfied: ipaddress in /usr/local/lib/python3.11/dist-packages (from -r requirements.txt (line 2)) (1.0.23)\n",
            "Requirement already satisfied: charset-normalizer<4,>=2 in /usr/local/lib/python3.11/dist-packages (from requests->-r requirements.txt (line 1)) (3.4.3)\n",
            "Requirement already satisfied: idna<4,>=2.5 in /usr/local/lib/python3.11/dist-packages (from requests->-r requirements.txt (line 1)) (3.10)\n",
            "Requirement already satisfied: urllib3<3,>=1.21.1 in /usr/local/lib/python3.11/dist-packages (from requests->-r requirements.txt (line 1)) (2.5.0)\n",
            "Requirement already satisfied: certifi>=2017.4.17 in /usr/local/lib/python3.11/dist-packages (from requests->-r requirements.txt (line 1)) (2025.8.3)\n"
          ]
        }
      ],
      "source": [
        "# 📦 Clone the repo and install dependencies\n",
        "!git clone https://github.com/spyboy-productions/CamXploit.git\n",
        "%cd CamXploit\n",
        "!pip install -r requirements.txt"
      ]
    },
    {
      "cell_type": "markdown",
      "metadata": {
        "id": "C8m1qYqSy_gG"
      },
      "source": [
        "## ✅ Example Usage"
      ]
    },
    {
      "cell_type": "code",
      "execution_count": null,
      "metadata": {
        "id": "In6Zg1qSy_gG",
        "outputId": "e3e606fb-421c-4d5c-adc8-1b07be2cbcbe",
        "colab": {
          "base_uri": "https://localhost:8080/"
        }
      },
      "outputs": [
        {
          "output_type": "stream",
          "name": "stdout",
          "text": [
            "\u001b[32m[+] \u001b[36mEnter IP address: \u001b[0m"
          ]
        }
      ],
      "source": [
        "# 🔍 Scan a public IP for exposed CCTV cameras (replace with your target IP)\n",
        "!python3 CamXploit.py"
      ]
    },
    {
      "cell_type": "markdown",
      "metadata": {
        "id": "CsulQlCyy_gG"
      },
      "source": [
        "You will be prompted for an IP. **Enter the IP address you want to scan.**\n",
        "\n",
        "> _Again: Only scan devices you have explicit authorization to test._"
      ]
    }
  ],
  "metadata": {
    "colab": {
      "provenance": []
    },
    "kernelspec": {
      "display_name": "Python 3",
      "language": "python",
      "name": "python3"
    },
    "language_info": {
      "name": "python"
    }
  },
  "nbformat": 4,
  "nbformat_minor": 0
}