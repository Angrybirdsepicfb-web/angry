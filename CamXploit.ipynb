{
  "cells": [
    {
      "cell_type": "markdown",
      "metadata": {
        "id": "0GVkezgvy_gF"
      },
      "source": [
        "# 🎥 CamXploit - Exposed CCTV Camera Recon Tool\n",
        "\n",
        "**Install and use CamXploit right here in Colab or Jupyter.**\n",
        "\n",
        "CamXploit scans, detects, and analyzes exposed IP cameras: common ports, login pages, default credentials, brand/vuln ID, live streams, & more.\n",
        "\n",
        "_⚠️ Educational use only! Do not scan devices you do not own or have explicit permission to test._"
      ]
    },
    {
      "cell_type": "code",
      "execution_count": 15,
      "metadata": {
        "id": "oF0_iQQsy_gF",
        "outputId": "cb2ee712-1e4c-475a-f0b8-7730f2a77d50",
        "colab": {
          "base_uri": "https://localhost:8080/"
        }
      },
      "outputs": [
        {
          "output_type": "stream",
          "name": "stdout",
          "text": [
            "fatal: destination path 'angry' already exists and is not an empty directory.\n",
            "[Errno 2] No such file or directory: 'CamXploit'\n",
            "/content/CamXploit/CamXploit/CamXploit/CamXploit/CamXploit/CamXploit\n",
            "Requirement already satisfied: requests in /usr/local/lib/python3.11/dist-packages (from -r requirements.txt (line 1)) (2.32.3)\n",
            "Requirement already satisfied: ipaddress in /usr/local/lib/python3.11/dist-packages (from -r requirements.txt (line 2)) (1.0.23)\n",
            "Requirement already satisfied: charset-normalizer<4,>=2 in /usr/local/lib/python3.11/dist-packages (from requests->-r requirements.txt (line 1)) (3.4.3)\n",
            "Requirement already satisfied: idna<4,>=2.5 in /usr/local/lib/python3.11/dist-packages (from requests->-r requirements.txt (line 1)) (3.10)\n",
            "Requirement already satisfied: urllib3<3,>=1.21.1 in /usr/local/lib/python3.11/dist-packages (from requests->-r requirements.txt (line 1)) (2.5.0)\n",
            "Requirement already satisfied: certifi>=2017.4.17 in /usr/local/lib/python3.11/dist-packages (from requests->-r requirements.txt (line 1)) (2025.8.3)\n"
          ]
        }
      ],
      "source": [
        "# 📦 Clone the repo and install dependencies\n",
        "!git clone https://github.com/Angrybirdsepicfb-web/angry\n",
        "%cd CamXploit\n",
        "!pip install -r requirements.txt"
      ]
    },
    {
      "cell_type": "markdown",
      "metadata": {
        "id": "C8m1qYqSy_gG"
      },
      "source": [
        "## ✅ Example Usage"
      ]
    },
    {
      "cell_type": "code",
      "execution_count": 16,
      "metadata": {
        "id": "In6Zg1qSy_gG",
        "outputId": "a6343562-3cee-440d-e8d3-dc27f3b970bc",
        "colab": {
          "base_uri": "https://localhost:8080/"
        }
      },
      "outputs": [
        {
          "output_type": "stream",
          "name": "stdout",
          "text": [
            "\u001b[32m[+] \u001b[36mEnter IP address: \u001b[0m\n",
            "\u001b[31m[!] Invalid IP address format\u001b[0m\n"
          ]
        }
      ],
      "source": [
        "# 🔍 Scan a public IP for exposed CCTV cameras (replace with your target IP)\n",
        "!python3 CamXploit.py"
      ]
    },
    {
      "cell_type": "markdown",
      "metadata": {
        "id": "CsulQlCyy_gG"
      },
      "source": [
        "You will be prompted for an IP. **Enter the IP address you want to scan.**\n",
        "\n",
        "> _Again: Only scan devices you have explicit authorization to test._"
      ]
    }
  ],
  "metadata": {
    "colab": {
      "provenance": []
    },
    "kernelspec": {
      "display_name": "Python 3",
      "language": "python",
      "name": "python3"
    },
    "language_info": {
      "name": "python"
    }
  },
  "nbformat": 4,
  "nbformat_minor": 0
}